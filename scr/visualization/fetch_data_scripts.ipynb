{
 "cells": [
  {
   "cell_type": "markdown",
   "metadata": {},
   "source": [
    "## Fetching data about quality of the water\n"
   ]
  },
  {
   "cell_type": "code",
   "execution_count": 1,
   "metadata": {},
   "outputs": [
    {
     "name": "stdout",
     "output_type": "stream",
     "text": [
      "CSV file 'water_facilities_trentino.csv' created successfully.\n"
     ]
    }
   ],
   "source": [
    "import requests\n",
    "import csv\n",
    "\n",
    "# URL to fetch the JSON data\n",
    "\n",
    "url = \"https://telecontrollo.cliquenet.it/opendata/siti\"\n",
    "\n",
    "# Keys to extract from the JSON\n",
    "keys = [\"id_sito\", \"indirizzo\", \"comune\", \"comuni_serviti\", \"descrizione\", \"longitude\", \"latitude\", \"altezza_mslm\", \"nome\", \"recettore\"]\n",
    "\n",
    "def fetch_json_data(url):\n",
    "    response = requests.get(url)\n",
    "    response.raise_for_status()  # Raise an HTTPError if the HTTP request returned an unsuccessful status code\n",
    "    return response.json()\n",
    "\n",
    "def convert_json_to_csv(json_data, csv_filename, keys):\n",
    "    with open(csv_filename, 'w', newline='', encoding='utf-8') as csvfile:\n",
    "        writer = csv.DictWriter(csvfile, fieldnames=keys)\n",
    "        writer.writeheader()\n",
    "        for item in json_data:\n",
    "            writer.writerow({key: item.get(key, \"\") for key in keys})\n",
    "\n",
    "def main():\n",
    "    json_data = fetch_json_data(url)\n",
    "    csv_filename = 'water_facilities_trentino.csv'\n",
    "    convert_json_to_csv(json_data, csv_filename, keys)\n",
    "    print(f\"CSV file '{csv_filename}' created successfully.\")\n",
    "\n",
    "if __name__ == \"__main__\":\n",
    "    main()\n"
   ]
  },
  {
   "cell_type": "code",
   "execution_count": null,
   "metadata": {},
   "outputs": [],
   "source": []
  }
 ],
 "metadata": {
  "kernelspec": {
   "display_name": "data-science-KLwnPlAe-py3.10",
   "language": "python",
   "name": "python3"
  },
  "language_info": {
   "codemirror_mode": {
    "name": "ipython",
    "version": 3
   },
   "file_extension": ".py",
   "mimetype": "text/x-python",
   "name": "python",
   "nbconvert_exporter": "python",
   "pygments_lexer": "ipython3",
   "version": "3.10.12"
  }
 },
 "nbformat": 4,
 "nbformat_minor": 2
}
